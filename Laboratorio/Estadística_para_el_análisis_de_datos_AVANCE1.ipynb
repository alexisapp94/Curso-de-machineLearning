{
  "nbformat": 4,
  "nbformat_minor": 0,
  "metadata": {
    "colab": {
      "name": "Estadística para el análisis de datos.ipynb",
      "provenance": [],
      "include_colab_link": true
    },
    "kernelspec": {
      "name": "python3",
      "display_name": "Python 3"
    },
    "language_info": {
      "name": "python"
    }
  },
  "cells": [
    {
      "cell_type": "markdown",
      "metadata": {
        "id": "view-in-github",
        "colab_type": "text"
      },
      "source": [
        "<a href=\"https://colab.research.google.com/github/alexisapp94/Curso-de-machineLearning/blob/main/Laboratorio/Estad%C3%ADstica_para_el_an%C3%A1lisis_de_datos_AVANCE1.ipynb\" target=\"_parent\"><img src=\"https://colab.research.google.com/assets/colab-badge.svg\" alt=\"Open In Colab\"/></a>"
      ]
    },
    {
      "cell_type": "markdown",
      "source": [
        "\n",
        "\n",
        "<h1 align=center><font size = 5>Laboratorio de Estadística para el análisis de datos</font></h1>\n",
        "\n",
        "---"
      ],
      "metadata": {
        "id": "D_f3UpLu_-HV"
      }
    },
    {
      "cell_type": "markdown",
      "source": [
        "## Introducción\n"
      ],
      "metadata": {
        "id": "sUqlVtQkAKiT"
      }
    },
    {
      "cell_type": "markdown",
      "source": [
        "En este laboratorio, aprenderá a usar python para analizar datos con estadística."
      ],
      "metadata": {
        "id": "Z4u9n4R6ANRq"
      }
    },
    {
      "cell_type": "markdown",
      "source": [
        "## 1. Descargar y analizar Dataset"
      ],
      "metadata": {
        "id": "D5EzcK3oASXc"
      }
    },
    {
      "cell_type": "markdown",
      "source": [
        "### Esta es la legendaria competencia Titanic ML\n"
      ],
      "metadata": {
        "id": "ynJwResaAWss"
      }
    },
    {
      "cell_type": "markdown",
      "source": [
        "\n",
        "\n",
        "El hundimiento del Titanic es uno de los naufragios más infames de la historia.\n",
        "\n",
        "El 15 de abril de 1912, durante su viaje inaugural, el RMS Titanic, ampliamente considerado \"insumergible\", se hundió tras chocar con un iceberg. Desafortunadamente, no había suficientes botes salvavidas para todos a bordo, lo que resultó en la muerte de 1502 de los 2224 pasajeros y la tripulación.\n",
        "\n",
        "Si bien hubo algún elemento de suerte involucrado en sobrevivir, parece que algunos grupos de personas tenían más probabilidades de sobrevivir que otros.\n",
        "\n",
        "En este desafío, le pedimos que cree un modelo predictivo que responda a la pregunta: \"¿Qué tipo de personas tenían más probabilidades de sobrevivir?\" utilizando datos de pasajeros (es decir, nombre, edad, sexo, clase socioeconómica, etc.)."
      ],
      "metadata": {
        "id": "Z5MrBjbOAYx7"
      }
    },
    {
      "cell_type": "markdown",
      "source": [
        "<img src=\"https://storage.googleapis.com/kaggle-media/welcome/video_thumbnail.jpg\" width=\"800\" \n",
        "     height=\"400\">\n",
        "<div style=\"text-align: center\">¿Qué tipo de personas tenían más probabilidades de sobrevivir? </div>"
      ],
      "metadata": {
        "id": "acQYFWr8AbUd"
      }
    },
    {
      "cell_type": "markdown",
      "source": [
        "\n",
        "<b>Descripción de datos</b>\n",
        "\n",
        "El data frame de Titanic tiene 891 filas y 12 columnas.\n",
        "\n",
        "<b>Este data frame contiene las siguientes columnas:</b>\n",
        "\n",
        "---\n",
        "\n",
        "* <b>Survival : </b>  Supervivencia (0 = No, 1 = Sí)\n",
        "* <b>Pclass : </b>  Ticket class (1 = 1st, 2 = 2nd, 3 = 3rd)\n",
        "* <b>Sex : </b>  Sexo \n",
        "* <b>Age : </b>  Edad en años\n",
        "* <b>Sibsp : </b>  # de hermanos / cónyuges a bordo del Titanic\n",
        "* <b>Parch : </b>  # de padres / hijos a bordo del Titanic\n",
        "\n",
        "* <b>Ticket : </b>  Número de ticket\n",
        "\n",
        "* <b>Fare : </b>  Tarifa de pasajero\n",
        "* <b>Cabin : </b>  Número de cabina\n",
        "* <b>Embarked : </b>  Puerto de embarque (C = Cherburgo, Q = Queenstown, S = Southampton)\n",
        "\n",
        "\n",
        "\n",
        "---\n",
        "\n",
        "\n",
        "<strong>Puede consultar este [link](https://www.kaggle.com/c/titanic/overview) para leer más sobre la fuente de datos Titanic.</strong>\n"
      ],
      "metadata": {
        "id": "BbrCaloCBpb3"
      }
    },
    {
      "cell_type": "code",
      "source": [
        "# Importando librerías\n",
        "\n",
        "import pandas as pd\n"
      ],
      "metadata": {
        "id": "FBwGSZJ1CHVb"
      },
      "execution_count": null,
      "outputs": []
    },
    {
      "cell_type": "code",
      "execution_count": null,
      "metadata": {
        "id": "HdRwCUPG_Iil"
      },
      "outputs": [],
      "source": [
        "# leer la data desde una archivo csv\n",
        "titanic = pd.read_csv('train.csv', delimiter = \";\")\n"
      ]
    },
    {
      "cell_type": "code",
      "source": [
        "# Visualizar parte de la tabla \n",
        "titanic.head(10)"
      ],
      "metadata": {
        "id": "txIt6b20B1xZ"
      },
      "execution_count": null,
      "outputs": []
    },
    {
      "cell_type": "code",
      "source": [
        "titanic.dtypes"
      ],
      "metadata": {
        "id": "U7QrayPSDMnn"
      },
      "execution_count": null,
      "outputs": []
    },
    {
      "cell_type": "code",
      "source": [
        "titanic.Age"
      ],
      "metadata": {
        "id": "HqXu-jY5CeZb"
      },
      "execution_count": null,
      "outputs": []
    },
    {
      "cell_type": "markdown",
      "source": [
        "# Tarea\n",
        "\n",
        "1.   ¿Cuál es la edad promedio de las mujeres?\n",
        "2.   ¿Cuál es el puerto de embarque más frecuente?\n",
        "3.   ¿Cuánto es el monto promedio pagado por pasaje?\n",
        "\n",
        "---"
      ],
      "metadata": {
        "id": "dlE6e0bodroo"
      }
    }
  ]
}